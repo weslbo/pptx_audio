{
 "cells": [
  {
   "cell_type": "code",
   "execution_count": null,
   "metadata": {},
   "outputs": [],
   "source": [
    "%run functions.py"
   ]
  },
  {
   "cell_type": "code",
   "execution_count": null,
   "metadata": {},
   "outputs": [],
   "source": [
    "from pptx import Presentation\n",
    "from lxml import etree\n",
    "import json\n",
    "import glob\n",
    "\n",
    "pptx_files = glob.glob('C:\\\\_git\\\\weslbo\\\\pptx_audio\\\\slides\\\\01_original\\\\AI-3003*.pptx')\n",
    "prefix = \"AI-3003\"\n"
   ]
  },
  {
   "cell_type": "markdown",
   "metadata": {},
   "source": [
    "## Remove all existing instructor notes "
   ]
  },
  {
   "cell_type": "code",
   "execution_count": null,
   "metadata": {},
   "outputs": [],
   "source": [
    "for input_pptx in pptx_files:\n",
    "    output_pptx = input_pptx.replace('01_original', '02_without_notes')\n",
    "    removeNotes(input_pptx, output_pptx)"
   ]
  },
  {
   "cell_type": "markdown",
   "metadata": {},
   "source": [
    "## Retrieve learn content"
   ]
  },
  {
   "cell_type": "code",
   "execution_count": null,
   "metadata": {},
   "outputs": [],
   "source": [
    "for pptx in pptx_files:\n",
    "    input_pptx = pptx.replace('01_original', '02_without_notes')\n",
    "    output_pptx = pptx.replace('01_original', '03_learn_content')\n",
    "    retrieveLearnContent(input_pptx, output_pptx)"
   ]
  },
  {
   "cell_type": "markdown",
   "metadata": {},
   "source": [
    "## Generate SSML"
   ]
  },
  {
   "cell_type": "code",
   "execution_count": null,
   "metadata": {},
   "outputs": [],
   "source": [
    "for pptx in pptx_files:\n",
    "    input_pptx = pptx.replace('01_original', '03_learn_content')\n",
    "    output_pptx = pptx.replace('01_original', '04_ssml')\n",
    "    generateSSML(input_pptx, output_pptx)"
   ]
  },
  {
   "cell_type": "markdown",
   "metadata": {},
   "source": [
    "## Generate Audio"
   ]
  },
  {
   "cell_type": "code",
   "execution_count": null,
   "metadata": {},
   "outputs": [],
   "source": [
    "for pptx in pptx_files:\n",
    "    input_pptx = pptx.replace('01_original', '04_ssml')\n",
    "    output_pptx = pptx.replace('01_original', '05_audio')\n",
    "    generateAudio(input_pptx, output_pptx, \"C:\\\\_git\\\\weslbo\\\\pptx_audio\\\\slides\\\\05_audio\\\\\" + prefix)"
   ]
  },
  {
   "cell_type": "markdown",
   "metadata": {},
   "source": [
    "## Update SSML (fix a slide)"
   ]
  },
  {
   "cell_type": "code",
   "execution_count": null,
   "metadata": {},
   "outputs": [],
   "source": [
    "input_pptx  = \"C:\\\\_git\\\\weslbo\\\\pptx_audio\\\\slides\\\\03_learn_content\\\\MS-4005-ENU-PowerPoint_02.pptx\"\n",
    "output_pptx = \"C:\\\\_git\\\\weslbo\\\\pptx_audio\\\\slides\\\\04_ssml\\\\MS-4005-ENU-PowerPoint_02.pptx\"\n",
    "generateSSML(input_pptx, output_pptx)\n"
   ]
  },
  {
   "cell_type": "markdown",
   "metadata": {},
   "source": [
    "## Update Audio"
   ]
  },
  {
   "cell_type": "code",
   "execution_count": null,
   "metadata": {},
   "outputs": [],
   "source": [
    "input_pptx  = \"C:\\\\_git\\\\weslbo\\\\pptx_audio\\\\slides\\\\04_ssml\\\\MS-4005-ENE-PowerPoint_01.pptx\"\n",
    "output_pptx = \"C:\\\\_git\\\\weslbo\\\\pptx_audio\\\\slides\\\\05_audio\\\\MS-4005-ENE-PowerPoint_01.pptx\"\n",
    "generateAudio(input_pptx, output_pptx, \"C:\\\\_git\\\\weslbo\\\\pptx_audio\\\\slides\\\\05_audio\\\\\" + prefix)"
   ]
  },
  {
   "cell_type": "markdown",
   "metadata": {},
   "source": [
    "## Get a list of all slides"
   ]
  },
  {
   "cell_type": "code",
   "execution_count": null,
   "metadata": {},
   "outputs": [],
   "source": [
    "import json\n",
    "\n",
    "for pptx_file in pptx_files:\n",
    "    all_slides = listAllSlides(pptx_file)\n",
    "\n",
    "    all_slides_json = json.dumps(all_slides, indent=4)\n",
    "\n",
    "    with open(pptx_file.replace(\".pptx\", \".json\"), 'w') as json_file:\n",
    "        json_file.write(all_slides_json)"
   ]
  },
  {
   "cell_type": "markdown",
   "metadata": {},
   "source": [
    "## Add audio fragment"
   ]
  },
  {
   "cell_type": "code",
   "execution_count": null,
   "metadata": {},
   "outputs": [],
   "source": [
    "addAudioFragment(pptx_files[0], 2, \"C:\\\\_git\\weslbo\\\\ConversationHelper\\\\ConversationFunction\\\\conversation.mp3\")"
   ]
  }
 ],
 "metadata": {
  "kernelspec": {
   "display_name": "Python 3",
   "language": "python",
   "name": "python3"
  },
  "language_info": {
   "codemirror_mode": {
    "name": "ipython",
    "version": 3
   },
   "file_extension": ".py",
   "mimetype": "text/x-python",
   "name": "python",
   "nbconvert_exporter": "python",
   "pygments_lexer": "ipython3",
   "version": "3.11.9"
  }
 },
 "nbformat": 4,
 "nbformat_minor": 2
}
